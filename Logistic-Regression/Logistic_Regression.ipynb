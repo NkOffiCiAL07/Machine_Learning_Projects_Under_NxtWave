{
  "nbformat": 4,
  "nbformat_minor": 0,
  "metadata": {
    "colab": {
      "name": "Logistic_Regression.ipynb",
      "provenance": [],
      "collapsed_sections": []
    },
    "kernelspec": {
      "name": "python3",
      "display_name": "Python 3"
    },
    "language_info": {
      "name": "python"
    }
  },
  "cells": [
    {
      "cell_type": "markdown",
      "metadata": {
        "id": "EuJHPGW1_LnU"
      },
      "source": [
        "###**Problem Description :-**\n",
        "\n",
        "Harry and Hermione are in the 2nd year of Hogwarts (for those who haven't watched Harry Potter series, it's a magic school). While wandering around Hogwarts, they came across a room filled with new potions that are being created. Both Harry and Hermione want to find out the category that each of the potions belong to, so that they can use them for appropriate scenarios.\n",
        "\n",
        "Assume that there are only 4 categories of potions that are being prepared in the room. The compositions of each potion vary over a range of values. A book with the data of various potions, their compositions and the corresponding categories is available in the school library.\n",
        "\n",
        "Categories of the potions are: anti-aging, transmigration, memory and healing.\n",
        "Help the wizards identify the types of potions and support them in perfecting the art of magic!"
      ]
    },
    {
      "cell_type": "markdown",
      "metadata": {
        "id": "95620XI6-JrQ"
      },
      "source": [
        "**Training Model :-**"
      ]
    },
    {
      "cell_type": "code",
      "metadata": {
        "id": "pE2tdlC-l2R0"
      },
      "source": [
        "from sklearn.metrics import f1_score\n",
        "import numpy as np\n",
        "import csv"
      ],
      "execution_count": 1,
      "outputs": []
    },
    {
      "cell_type": "code",
      "metadata": {
        "id": "bUtvhyYWqHjO"
      },
      "source": [
        "X = np.genfromtxt(\"train_X_lg_v2.csv\", delimiter=',', dtype=np.float64, skip_header=1)\n",
        "Y = np.genfromtxt(\"train_Y_lg_v2.csv\", delimiter=',', dtype=np.float64)"
      ],
      "execution_count": 2,
      "outputs": []
    },
    {
      "cell_type": "code",
      "metadata": {
        "id": "gCA6S1F1qHgW"
      },
      "source": [
        "def sigmoid(Z):\n",
        "    A = 1.0 / (1.0 + np.exp(-Z))\n",
        "    return A"
      ],
      "execution_count": 3,
      "outputs": []
    },
    {
      "cell_type": "code",
      "metadata": {
        "id": "pjrSz7CxqHdo"
      },
      "source": [
        "def compute_cost(X, Y, W, b):\n",
        "    m = len(Y)\n",
        "    Z = np.dot(X, W.T) + b\n",
        "    A = sigmoid(Z)\n",
        "    A[A == 1] = 0.9999\n",
        "    A[A == 0] = 0.0001\n",
        "    cost = -1 * (1/m) * np.sum(np.multiply(Y, np.log(A)) +\n",
        "                               np.multiply((1 - Y), np.log(1 - A)))\n",
        "    return cost"
      ],
      "execution_count": 4,
      "outputs": []
    },
    {
      "cell_type": "code",
      "metadata": {
        "id": "liiF171rqHah"
      },
      "source": [
        "def compute_gradient_of_cost_function(X, Y, W, b):\n",
        "    m = len(Y)\n",
        "    Z = np.dot(X, W.T) + b\n",
        "    A = sigmoid(Z)\n",
        "    db = np.sum(A - Y) / m\n",
        "    dw = np.dot((A - Y).T, X) / m\n",
        "    return dw, db"
      ],
      "execution_count": 5,
      "outputs": []
    },
    {
      "cell_type": "code",
      "metadata": {
        "id": "Dt4PSoqTqHXu"
      },
      "source": [
        "def Optimize_weights_using_gradient_descent(X, Y, learning_rate):\n",
        "    Threshold_value = 0.0000001\n",
        "    prev_cost, b, i = 0, 0, 1\n",
        "    Y = Y.reshape(X.shape[0], 1)\n",
        "    W = np.zeros((1, X.shape[1]))\n",
        "    while True:\n",
        "        dw, db = compute_gradient_of_cost_function(X, Y, W, b)\n",
        "        W = W - (learning_rate * dw)\n",
        "        b = b - (learning_rate * db)\n",
        "        cost = compute_cost(X, Y, W, b)\n",
        "        if abs(cost - prev_cost) < (Threshold_value):\n",
        "            break\n",
        "        prev_cost = cost\n",
        "        i += 1\n",
        "    return W, b"
      ],
      "execution_count": 6,
      "outputs": []
    },
    {
      "cell_type": "code",
      "metadata": {
        "id": "c8KaffBCqHU_"
      },
      "source": [
        "def get_train_data_for_class(train_X, train_Y, class_label):\n",
        "    class_X = np.copy(train_X)\n",
        "    class_Y = np.copy(train_Y)\n",
        "    class_Y = np.where(class_Y == class_label, 1, 0)\n",
        "    return class_X, class_Y"
      ],
      "execution_count": 7,
      "outputs": []
    },
    {
      "cell_type": "code",
      "metadata": {
        "id": "guhRF_97qHPw"
      },
      "source": [
        "Y_value = len(np.unique(Y))\n",
        "alpha = {0:0.0055, 1:0.0032, 2:0.0028, 3:0.0061}"
      ],
      "execution_count": 11,
      "outputs": []
    },
    {
      "cell_type": "code",
      "metadata": {
        "id": "hgKRMlxqqHM_"
      },
      "source": [
        "  weights = list()\n",
        "  for i in range(Y_value):\n",
        "      class_X, class_Y = get_train_data_for_class(X, Y, i)\n",
        "      w, b = Optimize_weights_using_gradient_descent(class_X, class_Y, alpha[i])\n",
        "      weights.append(np.insert(w, 0, b, axis=1))"
      ],
      "execution_count": 12,
      "outputs": []
    },
    {
      "cell_type": "markdown",
      "metadata": {
        "id": "052abv57-Yg3"
      },
      "source": [
        "**Storing Weights corresponding to different Y values :-**"
      ]
    },
    {
      "cell_type": "code",
      "metadata": {
        "colab": {
          "base_uri": "https://localhost:8080/"
        },
        "id": "DRQStocQqHKX",
        "outputId": "60e2456f-38c7-4cd4-cab4-7216afd52dbf"
      },
      "source": [
        "for i in weights:\n",
        "    print(*i)"
      ],
      "execution_count": 13,
      "outputs": [
        {
          "output_type": "stream",
          "text": [
            "[ 5.33142623e+00  2.81877446e-01  2.43659021e-01 -2.67472044e-01\n",
            " -2.33522021e+00  4.02551060e-01  7.98272411e-01 -1.76610869e+01\n",
            "  2.27402110e-01  3.61402868e-01  3.10870816e-01  1.98711735e-01\n",
            " -4.15589694e+00  3.60830640e-01  1.03425315e-01 -3.61782139e-01\n",
            " -1.38499698e-03  3.85566879e-01  1.09210238e-01 -2.81900533e+00\n",
            "  5.77059732e-01]\n",
            "[-9.62556144e-02 -3.28939963e-02 -6.05460171e-02  1.60073034e-01\n",
            " -1.34642070e-01  7.70465691e-02 -5.61231661e-01 -1.68156795e+00\n",
            " -5.82736856e-02  4.06520302e-04 -4.30437757e-03  9.10515206e-02\n",
            " -2.96724656e-01  1.66495404e-01  4.12898441e-01  2.24697969e-01\n",
            "  1.14281772e-03 -1.12329882e-01  2.93416874e-01  1.27637632e-01\n",
            " -1.07731868e-02]\n",
            "[-0.41538396 -0.01448607 -0.00896293 -0.2168049  -0.09514797 -0.17355246\n",
            "  0.06634997  1.59179279 -0.1240571  -0.10812952 -0.17353211 -0.26853718\n",
            " -0.17361844 -0.13508278 -0.05694573  0.08030582 -0.00894024 -0.1417076\n",
            " -0.22331703 -0.21229124  0.31379077]\n",
            "[-1.37986218e+01 -1.05676248e-01 -1.64990468e-01  2.21859181e-02\n",
            "  2.60633311e+00 -1.81357036e-01 -1.41623768e-01  1.59911163e+01\n",
            " -1.05867320e-03 -1.22257575e-01  2.02734146e-01  2.59691190e-01\n",
            "  4.09383227e+00 -1.44808125e-02 -3.95089318e-01 -2.92927370e-01\n",
            "  7.24898037e-03 -3.58138476e-01  7.22205165e-03  2.49531421e+00\n",
            " -1.63493540e+00]\n"
          ],
          "name": "stdout"
        }
      ]
    },
    {
      "cell_type": "markdown",
      "metadata": {
        "id": "qmRf-3GB99V1"
      },
      "source": [
        "**Prediction and Validation of model using f1 score :-**"
      ]
    },
    {
      "cell_type": "code",
      "metadata": {
        "id": "hnF7v5YNqHHX"
      },
      "source": [
        "def predict_target_values(test_X, weights):\n",
        "    Y_value = [0, 1, 2, 3]\n",
        "    b_for_all = weights[:,0][:,0]\n",
        "    Weights_for_all = weights[:,0][:, 1:]\n",
        "    pred_Y, list = [], []\n",
        "    m, n = len(test_X), len(weights)\n",
        "    for i in range(n):\n",
        "        Z = np.dot(test_X, Weights_for_all[i].T) + b_for_all[i]\n",
        "        list.append(sigmoid(Z))\n",
        "    Predicted_arr = np.array(list)\n",
        "    max_value = np.max(Predicted_arr, axis = 0)\n",
        "    for idx in range(m):\n",
        "        for y in Y_value:\n",
        "            if(Predicted_arr[y][idx] == max_value[idx]):\n",
        "                pred_Y.append(y)\n",
        "                break\n",
        "    predicted_Y_value = np.array(pred_Y).reshape(test_X.shape[0], 1)\n",
        "    return predicted_Y_value"
      ],
      "execution_count": 14,
      "outputs": []
    },
    {
      "cell_type": "code",
      "metadata": {
        "id": "DpPwgjcp3Ciu"
      },
      "source": [
        "weight = np.array(weights)\n",
        "w = []\n",
        "for i in weight:\n",
        "    w.append(i[0])"
      ],
      "execution_count": 15,
      "outputs": []
    },
    {
      "cell_type": "code",
      "metadata": {
        "colab": {
          "base_uri": "https://localhost:8080/"
        },
        "id": "YfrNmDVj30yh",
        "outputId": "f60657fb-e1e8-4739-b2d7-ff10b0b797b9"
      },
      "source": [
        "predicted_Y_value = predict_target_values(X, weight)\n",
        "predicted_Y_value"
      ],
      "execution_count": 16,
      "outputs": [
        {
          "output_type": "execute_result",
          "data": {
            "text/plain": [
              "array([[1],\n",
              "       [0],\n",
              "       [3],\n",
              "       ...,\n",
              "       [0],\n",
              "       [3],\n",
              "       [1]])"
            ]
          },
          "metadata": {
            "tags": []
          },
          "execution_count": 16
        }
      ]
    },
    {
      "cell_type": "code",
      "metadata": {
        "colab": {
          "base_uri": "https://localhost:8080/"
        },
        "id": "_sMoShPs9r-e",
        "outputId": "b633cf3e-65f1-4b7b-ecd1-06b8be611802"
      },
      "source": [
        "\n",
        "weighted_f1_score = f1_score(Y, predicted_Y_value, average = 'weighted')\n",
        "weighted_f1_score"
      ],
      "execution_count": 17,
      "outputs": [
        {
          "output_type": "execute_result",
          "data": {
            "text/plain": [
              "0.8222318714002458"
            ]
          },
          "metadata": {
            "tags": []
          },
          "execution_count": 17
        }
      ]
    }
  ]
}